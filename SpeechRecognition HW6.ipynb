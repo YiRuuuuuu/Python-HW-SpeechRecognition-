{
 "cells": [
  {
   "cell_type": "code",
   "execution_count": 5,
   "id": "5737a850-1898-4423-b528-4bf26f6a956b",
   "metadata": {},
   "outputs": [
    {
     "name": "stdout",
     "output_type": "stream",
     "text": [
      "Defaulting to user installation because normal site-packages is not writeable\n",
      "Requirement already satisfied: SpeechRecognition in c:\\users\\cherr\\appdata\\roaming\\python\\python311\\site-packages (3.10.3)\n",
      "Requirement already satisfied: requests>=2.26.0 in c:\\programdata\\anaconda3\\lib\\site-packages (from SpeechRecognition) (2.31.0)\n",
      "Requirement already satisfied: typing-extensions in c:\\programdata\\anaconda3\\lib\\site-packages (from SpeechRecognition) (4.9.0)\n",
      "Requirement already satisfied: charset-normalizer<4,>=2 in c:\\programdata\\anaconda3\\lib\\site-packages (from requests>=2.26.0->SpeechRecognition) (2.0.4)\n",
      "Requirement already satisfied: idna<4,>=2.5 in c:\\programdata\\anaconda3\\lib\\site-packages (from requests>=2.26.0->SpeechRecognition) (3.4)\n",
      "Requirement already satisfied: urllib3<3,>=1.21.1 in c:\\programdata\\anaconda3\\lib\\site-packages (from requests>=2.26.0->SpeechRecognition) (2.0.7)\n",
      "Requirement already satisfied: certifi>=2017.4.17 in c:\\programdata\\anaconda3\\lib\\site-packages (from requests>=2.26.0->SpeechRecognition) (2024.2.2)\n"
     ]
    }
   ],
   "source": [
    "! pip install SpeechRecognition"
   ]
  },
  {
   "cell_type": "code",
   "execution_count": 6,
   "id": "cd477b2d-4659-4bed-a08b-07a8b1b49e57",
   "metadata": {},
   "outputs": [
    {
     "name": "stdout",
     "output_type": "stream",
     "text": [
      "Defaulting to user installation because normal site-packages is not writeable\n",
      "Collecting Pyaudio\n",
      "  Using cached PyAudio-0.2.14-cp311-cp311-win_amd64.whl.metadata (2.7 kB)\n",
      "Using cached PyAudio-0.2.14-cp311-cp311-win_amd64.whl (164 kB)\n",
      "Installing collected packages: Pyaudio\n",
      "Successfully installed Pyaudio-0.2.14\n"
     ]
    }
   ],
   "source": [
    "! pip install Pyaudio"
   ]
  },
  {
   "cell_type": "code",
   "execution_count": 26,
   "id": "1c8a30d2-2ea7-4ac1-935d-9adc306fd5d0",
   "metadata": {},
   "outputs": [],
   "source": [
    "import speech_recognition\n",
    "r=speech_recognition.Recognizer()\n",
    "with speech_recognition.Microphone() as source:\n",
    "   audio = r.listen(source)"
   ]
  },
  {
   "cell_type": "code",
   "execution_count": 27,
   "id": "b1c533c2-ce9f-4c1c-bb09-822ddd5e2f9f",
   "metadata": {},
   "outputs": [
    {
     "data": {
      "text/plain": [
       "'謝謝'"
      ]
     },
     "execution_count": 27,
     "metadata": {},
     "output_type": "execute_result"
    }
   ],
   "source": [
    "r.recognize_google(audio, language='zh-TW')"
   ]
  },
  {
   "cell_type": "code",
   "execution_count": 30,
   "id": "aabdc644-0d9a-4b02-b052-5dc467d620a4",
   "metadata": {},
   "outputs": [],
   "source": [
    "import speech_recognition\n",
    "r=speech_recognition.Recognizer()\n",
    "with speech_recognition.Microphone() as source:\n",
    "   audio = r.listen(source)"
   ]
  },
  {
   "cell_type": "code",
   "execution_count": 31,
   "id": "ff139818-cb80-4aea-a1fb-d67641a2cc42",
   "metadata": {},
   "outputs": [
    {
     "data": {
      "text/plain": [
       "'thank you'"
      ]
     },
     "execution_count": 31,
     "metadata": {},
     "output_type": "execute_result"
    }
   ],
   "source": [
    "r.recognize_google(audio, language='en')"
   ]
  },
  {
   "cell_type": "code",
   "execution_count": 38,
   "id": "e54b4583-3458-44f2-aeab-a874e280ae82",
   "metadata": {},
   "outputs": [],
   "source": [
    "import speech_recognition\n",
    "r=speech_recognition.Recognizer()\n",
    "with speech_recognition.Microphone() as source:\n",
    "    audio = r.listen(source)"
   ]
  },
  {
   "cell_type": "code",
   "execution_count": 36,
   "id": "3e1c3756-9338-4ab3-88f6-755f3d96ddd5",
   "metadata": {},
   "outputs": [],
   "source": [
    "r.result=r.recognize_google(audio, language='ja')"
   ]
  },
  {
   "cell_type": "code",
   "execution_count": 41,
   "id": "051e89c9-9884-45a0-bd2c-bab0d61416ca",
   "metadata": {},
   "outputs": [
    {
     "name": "stdout",
     "output_type": "stream",
     "text": [
      "Note: you may need to restart the kernel to use updated packages.Defaulting to user installation because normal site-packages is not writeable\n",
      "Collecting gTTS\n",
      "  Downloading gTTS-2.5.1-py3-none-any.whl.metadata (4.1 kB)\n",
      "Requirement already satisfied: requests<3,>=2.27 in c:\\programdata\\anaconda3\\lib\\site-packages (from gTTS) (2.31.0)\n",
      "Requirement already satisfied: click<8.2,>=7.1 in c:\\programdata\\anaconda3\\lib\\site-packages (from gTTS) (8.1.7)\n",
      "Requirement already satisfied: colorama in c:\\programdata\\anaconda3\\lib\\site-packages (from click<8.2,>=7.1->gTTS) (0.4.6)\n",
      "Requirement already satisfied: charset-normalizer<4,>=2 in c:\\programdata\\anaconda3\\lib\\site-packages (from requests<3,>=2.27->gTTS) (2.0.4)\n",
      "Requirement already satisfied: idna<4,>=2.5 in c:\\programdata\\anaconda3\\lib\\site-packages (from requests<3,>=2.27->gTTS) (3.4)\n",
      "Requirement already satisfied: urllib3<3,>=1.21.1 in c:\\programdata\\anaconda3\\lib\\site-packages (from requests<3,>=2.27->gTTS) (2.0.7)\n",
      "Requirement already satisfied: certifi>=2017.4.17 in c:\\programdata\\anaconda3\\lib\\site-packages (from requests<3,>=2.27->gTTS) (2024.2.2)\n",
      "Downloading gTTS-2.5.1-py3-none-any.whl (29 kB)\n",
      "Installing collected packages: gTTS\n",
      "Successfully installed gTTS-2.5.1\n",
      "\n"
     ]
    },
    {
     "name": "stderr",
     "output_type": "stream",
     "text": [
      "  WARNING: The script gtts-cli.exe is installed in 'C:\\Users\\cherr\\AppData\\Roaming\\Python\\Python311\\Scripts' which is not on PATH.\n",
      "  Consider adding this directory to PATH or, if you prefer to suppress this warning, use --no-warn-script-location.\n"
     ]
    }
   ],
   "source": [
    "pip install gTTS"
   ]
  },
  {
   "cell_type": "code",
   "execution_count": 43,
   "id": "8c3279e1-b087-434d-a3ad-fe64616d7c39",
   "metadata": {},
   "outputs": [],
   "source": [
    "from gtts import gTTS\n",
    "tts=gTTS(text='發發你好嗎?',lang='zh-TW')\n",
    "tts.save('fa.mp3')"
   ]
  },
  {
   "cell_type": "code",
   "execution_count": 45,
   "id": "cbfb244a-e1a9-4c20-a0ef-c1ed3bcc0727",
   "metadata": {},
   "outputs": [
    {
     "name": "stdout",
     "output_type": "stream",
     "text": [
      "Defaulting to user installation because normal site-packages is not writeableNote: you may need to restart the kernel to use updated packages.\n",
      "\n",
      "Collecting pygame\n",
      "  Using cached pygame-2.5.2-cp311-cp311-win_amd64.whl.metadata (13 kB)\n",
      "Using cached pygame-2.5.2-cp311-cp311-win_amd64.whl (10.8 MB)\n",
      "Installing collected packages: pygame\n",
      "Successfully installed pygame-2.5.2\n"
     ]
    }
   ],
   "source": [
    "pip install pygame"
   ]
  },
  {
   "cell_type": "code",
   "execution_count": 46,
   "id": "c165da49-65ff-4127-8cf6-f10b0506c73b",
   "metadata": {},
   "outputs": [
    {
     "name": "stdout",
     "output_type": "stream",
     "text": [
      "pygame 2.5.2 (SDL 2.28.3, Python 3.11.7)\n",
      "Hello from the pygame community. https://www.pygame.org/contribute.html\n"
     ]
    }
   ],
   "source": [
    "from pygame import mixer\n",
    "mixer.init()\n",
    "mixer.music.load('fa.mp3')\n",
    "mixer.music.play()"
   ]
  },
  {
   "cell_type": "code",
   "execution_count": 48,
   "id": "58672a63-e322-4180-ba0d-2feb068ff487",
   "metadata": {},
   "outputs": [],
   "source": [
    "from gtts import gTTS\n",
    "tts1 = gTTS(text='ありがとう', lang='ja')\n",
    "tts1.save('japanese_thank_you.mp3')"
   ]
  },
  {
   "cell_type": "code",
   "execution_count": 49,
   "id": "ebc98245-7197-467d-b316-b85132207611",
   "metadata": {},
   "outputs": [],
   "source": [
    "from pygame import mixer\n",
    "mixer.init()\n",
    "mixer.music.load('japanese_thank_you.mp3')\n",
    "mixer.music.play()"
   ]
  },
  {
   "cell_type": "code",
   "execution_count": 53,
   "id": "219d0b87-5fe8-477b-be4e-a05fed0b014d",
   "metadata": {},
   "outputs": [],
   "source": [
    "# temp file\n",
    "import tempfile\n",
    "def speak(sentence):\n",
    "      with tempfile.NamedTemporaryFile(delete=True) as fp:\n",
    "        tts=gTTS(text=sentence, lang='zh-CN')\n",
    "      tts.save(\"{}.mp3\".format(fp.name))\n",
    "      mixer.music.load('{}.mp3'.format(fp.name))\n",
    "      mixer.music.play()"
   ]
  },
  {
   "cell_type": "code",
   "execution_count": 54,
   "id": "a93788a6-452a-4fab-a90b-c9bccca32d46",
   "metadata": {},
   "outputs": [],
   "source": [
    "speak('發發好帥!!蟋蟀的帥!')"
   ]
  },
  {
   "cell_type": "code",
   "execution_count": 61,
   "id": "181c1598-39cf-4d56-ac20-886842ed95c0",
   "metadata": {},
   "outputs": [],
   "source": [
    "import tempfile\n",
    "def speak(sentence):\n",
    "    with tempfile.NamedTemporaryFile(delete=True) as fp:\n",
    "       tts1 = gTTS(text=sentence, lang='ja')\n",
    "       tts1.save(\"{}.mp3\".format(fp.name))\n",
    "       mixer.music.load('{}.mp3'.format(fp.name))\n",
    "       mixer.music.play()"
   ]
  },
  {
   "cell_type": "code",
   "execution_count": 63,
   "id": "b0f49871-1978-4532-aea5-44c8492666b4",
   "metadata": {},
   "outputs": [],
   "source": [
    "speak('散る桜, 残る桜も, 散る桜, うらを見せ, おもてを見せて, 散るもみぢ,見とて, 何か残さむ, 春は花, 山ほととぎす, 秋はもみぢ葉')"
   ]
  }
 ],
 "metadata": {
  "kernelspec": {
   "display_name": "Python 3 (ipykernel)",
   "language": "python",
   "name": "python3"
  },
  "language_info": {
   "codemirror_mode": {
    "name": "ipython",
    "version": 3
   },
   "file_extension": ".py",
   "mimetype": "text/x-python",
   "name": "python",
   "nbconvert_exporter": "python",
   "pygments_lexer": "ipython3",
   "version": "3.11.7"
  }
 },
 "nbformat": 4,
 "nbformat_minor": 5
}
